{
 "cells": [
  {
   "cell_type": "code",
   "execution_count": 19,
   "metadata": {},
   "outputs": [
    {
     "name": "stdout",
     "output_type": "stream",
     "text": [
      "-----\n",
      "1.2350231481481482\n",
      "1.1597670717592594\n",
      "1.1237051504629632\n",
      "1.1956412760416668\n",
      "1.1623532443576392\n",
      "1.1357096655574848\n"
     ]
    }
   ],
   "source": [
    "grid = [\n",
    "  1.52, 1.02, 1.03,\n",
    "  1.4, 1.2, 1.10\n",
    "]\n",
    "\n",
    "rows = 2\n",
    "columns = 3\n",
    "\n",
    "smooth = lambda {\n",
    "  rows.times do |current_x|\n",
    "    columns.times do |current_y|\n",
    "      offset = (current_x * columns) + current_y\n",
    "  \n",
    "      smoothing_array = [\n",
    "        offset\n",
    "      ]\n",
    "  \n",
    "      smoothing_array.push offset - 1 unless offset == 0\n",
    "      smoothing_array.push offset - columns unless current_x == 0\n",
    "      smoothing_array.push offset + 1 unless current_y + 1 == columns\n",
    "      smoothing_array.push offset + columns unless current_x + 1 == rows\n",
    "  \n",
    "      new_val = 0;\n",
    "  \n",
    "      smoothing_array.each { |item| new_val += grid[item] }\n",
    "  \n",
    "      grid[offset] = new_val / smoothing_array.length\n",
    "    end\n",
    "  end\n",
    "}\n",
    "\n",
    "2.times { smooth.call }\n",
    "\n",
    "puts \"-----\"\n",
    "puts grid"
   ]
  }
 ],
 "metadata": {
  "kernelspec": {
   "display_name": "Ruby 3 (iruby kernel)",
   "language": "ruby",
   "name": "ruby3"
  },
  "language_info": {
   "file_extension": ".rb",
   "mimetype": "application/x-ruby",
   "name": "ruby",
   "version": "3.3.3"
  }
 },
 "nbformat": 4,
 "nbformat_minor": 2
}
