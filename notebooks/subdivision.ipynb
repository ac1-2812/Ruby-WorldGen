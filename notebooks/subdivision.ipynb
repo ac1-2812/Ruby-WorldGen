{
 "cells": [
  {
   "cell_type": "markdown",
   "metadata": {},
   "source": [
    "Exploration around implementing a subdivision process."
   ]
  },
  {
   "cell_type": "code",
   "execution_count": 8,
   "metadata": {},
   "outputs": [
    {
     "name": "stdout",
     "output_type": "stream",
     "text": [
      "[{:x=>0, :y=>0, :z=>4}, {:x=>0, :y=>1, :z=>9}, {:x=>0, :y=>2, :z=>4}, {:x=>1, :y=>0, :z=>9}, {:x=>1, :y=>1, :z=>6}, {:x=>1, :y=>2, :z=>3}, {:x=>2, :y=>0, :z=>3}, {:x=>2, :y=>1, :z=>8}, {:x=>2, :y=>2, :z=>6}]\n",
      "[{:x=>0, :y=>0, :z=>4}, {:x=>0, :y=>1, :z=>4}, {:x=>0, :y=>2, :z=>9}, {:x=>0, :y=>3, :z=>9}, {:x=>0, :y=>4, :z=>4}, {:x=>1, :y=>0, :z=>4}, {:x=>1, :y=>1, :z=>4}, {:x=>1, :y=>2, :z=>9}, {:x=>1, :y=>3, :z=>9}, {:x=>1, :y=>4, :z=>4}, {:x=>1, :y=>0, :z=>9}, {:x=>1, :y=>1, :z=>9}, {:x=>1, :y=>2, :z=>6}, {:x=>1, :y=>3, :z=>6}, {:x=>1, :y=>4, :z=>3}, {:x=>2, :y=>0, :z=>9}, {:x=>2, :y=>1, :z=>9}, {:x=>2, :y=>2, :z=>6}, {:x=>2, :y=>3, :z=>6}, {:x=>2, :y=>4, :z=>3}, {:x=>2, :y=>0, :z=>3}, {:x=>2, :y=>1, :z=>3}, {:x=>2, :y=>2, :z=>8}, {:x=>2, :y=>3, :z=>8}, {:x=>2, :y=>4, :z=>6}]\n"
     ]
    }
   ],
   "source": [
    "new_grid_points = []\n",
    "grid_points = [ ]\n",
    "\n",
    "rows = 3\n",
    "columns = 3\n",
    "\n",
    "rows.times do |row|\n",
    "  columns.times do |column|\n",
    "    grid_points.push({ x: row, y: column, z: Random.new.rand(1..10) })\n",
    "  end\n",
    "end\n",
    "\n",
    "puts \"#{grid_points}\"\n",
    "\n",
    "rows.times do |row|\n",
    "  rows_to_add = row + 1 == rows ? 1 : 2\n",
    "  rows_to_add.times do |row_offset|\n",
    "    columns.times do |column|\n",
    "      offset = column * 2\n",
    "      current_index = (row * columns) + column;\n",
    "\n",
    "      new_grid_points.push({ x: row_offset + row, y:  offset, z: grid_points[current_index][:z] })\n",
    "      new_grid_points.push({ x: row_offset + row, y:  offset + 1, z: grid_points[current_index][:z] }) unless column + 1 == columns\n",
    "    end\n",
    "  end\n",
    "end\n",
    "\n",
    "puts \"#{new_grid_points}\""
   ]
  }
 ],
 "metadata": {
  "kernelspec": {
   "display_name": "Ruby 3 (iruby kernel)",
   "language": "ruby",
   "name": "ruby3"
  },
  "language_info": {
   "file_extension": ".rb",
   "mimetype": "application/x-ruby",
   "name": "ruby",
   "version": "3.3.3"
  }
 },
 "nbformat": 4,
 "nbformat_minor": 2
}
